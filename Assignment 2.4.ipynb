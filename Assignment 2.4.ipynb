{
 "cells": [
  {
   "cell_type": "code",
   "execution_count": 1,
   "metadata": {
    "collapsed": true
   },
   "outputs": [],
   "source": [
    "def filter_long_words(lst, n):\n",
    "    '''\n",
    "    input - takes a list of words and an integer n\n",
    "    output - returns a list of words that are longer than n\n",
    "    process - iterating through each element and compairing its length to n. if length of string comes greater than n,\n",
    "              then appending that string to the list named filtered_words.\n",
    "    '''\n",
    "    filtered_words = []\n",
    "    for i in lst:\n",
    "        if len(i) > n:\n",
    "            filtered_words.append(i)\n",
    "        else:\n",
    "            pass\n",
    "    print(filtered_words)"
   ]
  },
  {
   "cell_type": "code",
   "execution_count": 3,
   "metadata": {},
   "outputs": [
    {
     "name": "stdout",
     "output_type": "stream",
     "text": [
      "['prakash', 'mishra', 'nilesh']\n"
     ]
    }
   ],
   "source": [
    "lst = ['prakash', 'mishra', 'cicky', 'abhay', 'nilesh']\n",
    "filter_long_words(lst, 5)"
   ]
  },
  {
   "cell_type": "code",
   "execution_count": null,
   "metadata": {
    "collapsed": true
   },
   "outputs": [],
   "source": []
  },
  {
   "cell_type": "code",
   "execution_count": null,
   "metadata": {
    "collapsed": true
   },
   "outputs": [],
   "source": []
  }
 ],
 "metadata": {
  "kernelspec": {
   "display_name": "Python 3",
   "language": "python",
   "name": "python3"
  },
  "language_info": {
   "codemirror_mode": {
    "name": "ipython",
    "version": 3
   },
   "file_extension": ".py",
   "mimetype": "text/x-python",
   "name": "python",
   "nbconvert_exporter": "python",
   "pygments_lexer": "ipython3",
   "version": "3.6.3"
  }
 },
 "nbformat": 4,
 "nbformat_minor": 2
}
